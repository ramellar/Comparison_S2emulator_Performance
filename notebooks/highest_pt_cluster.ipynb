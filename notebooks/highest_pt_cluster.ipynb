{
 "cells": [
  {
   "cell_type": "markdown",
   "id": "d271895e",
   "metadata": {},
   "source": [
    "## Selecting the cluster with the highest Pt"
   ]
  },
  {
   "cell_type": "markdown",
   "id": "907da5e6",
   "metadata": {},
   "source": [
    "Creating a dummy sample for the clusters and the gen particles with their shape after the deltaR matching"
   ]
  },
  {
   "cell_type": "code",
   "execution_count": null,
   "id": "9bfa2e28",
   "metadata": {},
   "outputs": [
    {
     "name": "stdout",
     "output_type": "stream",
     "text": [
      "Cluster: [[1], [2], [2]]\n",
      "Gen: [[[{eta: 2.05, phi: 1.91, pt: 60, gen_flag: 1}], ..., [{eta: 2.05, ...}]], ...]\n"
     ]
    }
   ],
   "source": [
    "import awkward as ak\n",
    "import numpy as np\n",
    "\n",
    "eta_gen = ak.Array([\n",
    "    [[2.05], [2.05], [2.05]],\n",
    "    [[-1.86], [-1.86], [1.86]],\n",
    "    [[-1.86], [-1.86]],\n",
    "    [[-1.87], [1.86], [1.86]]\n",
    "])\n",
    "phi_gen = ak.Array([\n",
    "    [[1.91], [1.91], [1.91]],\n",
    "    [[1.05], [1.05], [2.00]],\n",
    "    [[1.91], [1.91]],\n",
    "    [[1.05], [2.00], [2.00]]\n",
    "])\n",
    "pt_gen = ak.Array([\n",
    "    [[60], [60], [60]],\n",
    "    [[70], [70], [70]],\n",
    "    [[70], [70]],\n",
    "    [[80], [80], [80]]\n",
    "])\n",
    "gen_flag=ak.Array([\n",
    "    [[1], [1], [1]],\n",
    "    [[1], [1], [2]],\n",
    "    [[2], [2]],\n",
    "    [[1], [2], [2]]\n",
    "])\n",
    "\n",
    "eta_cluster = ak.Array([\n",
    "    [[2.06], [2.04], [2.03]],\n",
    "    [[-1.84], [-1.72], [1.60]],\n",
    "    [[-1.84], [-1.72]],\n",
    "    [[-1.94], [1.80], [1.60]]\n",
    "])\n",
    "phi_cluster = ak.Array([\n",
    "    [[1.80], [1.99], [1.89]],\n",
    "    [[1.04], [1.07], [2.02]],\n",
    "    [[1.05], [1.07]],\n",
    "    [[1.55], [2.07], [2.02]]\n",
    "])\n",
    "pt_cluster = ak.Array([\n",
    "    [[65], [70], [50]],\n",
    "    [[69], [40], [60]],\n",
    "    [[50], [40]],\n",
    "    [[80], [90], [70]]\n",
    "])\n",
    "\n",
    "matched_particles= ak.Array([1,2,1,2])\n",
    "\n",
    "cluster= ak.zip({\n",
    "    'eta': eta_cluster,\n",
    "    'phi': phi_cluster,\n",
    "    'pt': pt_cluster,\n",
    "    'gen_flag': gen_flag\n",
    "})\n",
    "\n",
    "gen= ak.zip({\n",
    "    'eta': eta_gen,\n",
    "    'phi': phi_gen,\n",
    "    'pt': pt_gen,\n",
    "    'gen_flag': gen_flag\n",
    "})\n",
    "\n",
    "print(\"Cluster:\", cluster.gen_flag[3])\n",
    "print(\"Gen:\", gen)"
   ]
  },
  {
   "cell_type": "code",
   "execution_count": 209,
   "id": "5920a713",
   "metadata": {},
   "outputs": [
    {
     "name": "stdout",
     "output_type": "stream",
     "text": [
      "[[{eta: 2.06, phi: 1.8, pt: 65, gen_flag: 1}, ..., {eta: 2.03, ...}], ...]\n",
      "[[{eta: 2.05, phi: 1.91, pt: 60, gen_flag: 1}, ..., {eta: 2.05, ...}], ...]\n"
     ]
    }
   ],
   "source": [
    "cluster = ak.zip({\n",
    "    'eta': ak.flatten(eta_cluster, axis=2),\n",
    "    'phi': ak.flatten(phi_cluster, axis=2),\n",
    "    'pt': ak.flatten(pt_cluster, axis=2),\n",
    "    'gen_flag': ak.flatten(gen_flag, axis=2)\n",
    "})\n",
    "\n",
    "gen = ak.zip({\n",
    "    'eta': ak.flatten(eta_gen, axis=2),\n",
    "    'phi': ak.flatten(phi_gen, axis=2),\n",
    "    'pt': ak.flatten(pt_gen, axis=2),\n",
    "    'gen_flag': ak.flatten(gen_flag, axis=2)\n",
    "})\n",
    "\n",
    "\n",
    "\n",
    "# cluster = ak.flatten(cluster, axis=-1)\n",
    "# gen = ak.flatten(gen, axis=-1)\n",
    "\n",
    "print(cluster)\n",
    "print(gen)\n"
   ]
  },
  {
   "cell_type": "code",
   "execution_count": 210,
   "id": "7ab169ae",
   "metadata": {},
   "outputs": [
    {
     "name": "stdout",
     "output_type": "stream",
     "text": [
      "[False, True, False, True]\n",
      "[[{eta: 2.06, phi: 1.8, pt: 65, gen_flag: 1}, ..., {eta: 2.03, ...}], ...]\n",
      "[[1, 1, 2], [1, 2, 2]]\n",
      "[[{eta: -1.84, phi: 1.04, pt: 69, gen_flag: 1}, ..., {eta: 1.6, ...}], ...]\n"
     ]
    }
   ],
   "source": [
    "mask_2 = matched_particles == 2\n",
    "print(mask_2)\n",
    "\n",
    "print(cluster)\n",
    "gen_2 = gen[mask_2]\n",
    "cluster_2 = cluster[mask_2]\n",
    "\n",
    "print(gen_2.gen_flag)\n",
    "print(cluster_2)"
   ]
  },
  {
   "cell_type": "code",
   "execution_count": 211,
   "id": "9d91ae02",
   "metadata": {},
   "outputs": [
    {
     "name": "stdout",
     "output_type": "stream",
     "text": [
      "Cluster 2: [[2], [2, 2]]\n",
      "Cluster 2.1: [{eta: -1.84, phi: 1.04, pt: 69, gen_flag: 1}, {eta: -1.72, phi: ..., ...}]\n",
      "Cluster 2.2: [{eta: 1.6, phi: 2.02, pt: 60, gen_flag: 2}]\n",
      "Best Cluster 2.1: [{eta: -1.84, phi: 1.04, pt: 69, gen_flag: 1}, {eta: -1.94, phi: ..., ...}]\n",
      "Best Cluster 2.2: [{eta: 1.6, phi: 2.02, pt: 60, gen_flag: 2}, {eta: 1.8, phi: 2.07, ...}]\n",
      "Best Gen 2.1: [{eta: -1.86, phi: 1.05, pt: 70, gen_flag: 1}, {eta: -1.87, phi: ..., ...}]\n",
      "Best Gen 2.2: [{eta: 1.86, phi: 2, pt: 70, gen_flag: 2}, {eta: 1.86, phi: 2, ...}]\n"
     ]
    }
   ],
   "source": [
    "is_one = cluster_2.gen_flag == 1\n",
    "is_two = cluster_2.gen_flag == 2\n",
    "\n",
    "# Apply masks\n",
    "cluster_2_1 = cluster_2[is_one]\n",
    "cluster_2_2 = cluster_2[is_two]\n",
    "gen_2_1= gen_2[is_one]\n",
    "gen_2_2= gen_2[is_two]\n",
    "\n",
    "print(\"Cluster 2:\", cluster_2_2.gen_flag)\n",
    "\n",
    "print(\"Cluster 2.1:\", cluster_2_1[0])\n",
    "print(\"Cluster 2.2:\", cluster_2_2[0])\n",
    "\n",
    "sorted_clusters2_1 = cluster_2_1[ak.argsort(cluster_2_1.pt, ascending=False)]\n",
    "sorted_clusters2_2 = cluster_2_2[ak.argsort(cluster_2_2.pt, ascending=False)]\n",
    "best_cluster_2_1 = ak.firsts(sorted_clusters2_1)\n",
    "best_cluster_2_2 = ak.firsts(sorted_clusters2_2)\n",
    "best_gen_2_1 = gen_2_1[:, 0]\n",
    "best_gen_2_2 = gen_2_2[:, 0]\n",
    "\n",
    "print(\"Best Cluster 2.1:\", best_cluster_2_1)\n",
    "print(\"Best Cluster 2.2:\", best_cluster_2_2)\n",
    "print(\"Best Gen 2.1:\", best_gen_2_1)\n",
    "print(\"Best Gen 2.2:\", best_gen_2_2)\n",
    "\n",
    "# print(grouped_gen[0])\n",
    "# print(grouped_clusters[1])\n",
    "# print(grouped_gen[1])\n",
    "\n",
    "# print(grouped_gen)\n",
    "\n",
    "grouped_clusters = ak.Array([[x, y] for x, y in zip(best_cluster_2_1, best_cluster_2_2)])\n",
    "grouped_gen = ak.Array([[x, y] for x, y in zip(best_gen_2_1, best_gen_2_2)])\n"
   ]
  },
  {
   "cell_type": "code",
   "execution_count": 212,
   "id": "1ab7591c",
   "metadata": {},
   "outputs": [
    {
     "name": "stdout",
     "output_type": "stream",
     "text": [
      "Gen 1: [[{eta: 2.05, phi: 1.91, pt: 60, gen_flag: 1}, ..., {eta: 2.05, ...}], ...]\n",
      "Cluster 1: [[{eta: 2.06, phi: 1.8, pt: 65, gen_flag: 1}, ..., {eta: 2.03, ...}], ...]\n",
      "Gen 2: [[{eta: -1.86, phi: 1.05, pt: 70, gen_flag: 1}, ..., {eta: 1.86, ...}], ...]\n",
      "Cluster 2: [[{eta: -1.84, phi: 1.04, pt: 69, gen_flag: 1}, ..., {eta: 1.6, ...}], ...]\n"
     ]
    }
   ],
   "source": [
    "mask_1 = matched_particles == 1\n",
    "mask_2 = matched_particles == 2\n",
    "\n",
    "gen_1 = gen[mask_1]\n",
    "cluster_1 = cluster[mask_1]\n",
    "\n",
    "print(\"Gen 1:\", gen_1)\n",
    "print(\"Cluster 1:\", cluster_1)\n",
    "\n",
    "\n",
    "gen_2 = gen[mask_2]\n",
    "cluster_2 = cluster[mask_2]\n",
    "print(\"Gen 2:\", gen_2)\n",
    "print(\"Cluster 2:\", cluster_2)"
   ]
  },
  {
   "cell_type": "markdown",
   "id": "a359da9c",
   "metadata": {},
   "source": []
  },
  {
   "cell_type": "code",
   "execution_count": 213,
   "id": "01b11d72",
   "metadata": {},
   "outputs": [],
   "source": [
    "# Sort by pt descending and take the first in each event\n",
    "sorted_clusters = cluster_1[ak.argsort(cluster_1.pt, ascending=False)]\n",
    "best_cluster_1 = ak.firsts(sorted_clusters)\n",
    "best_gen_1 = gen_1[:, 0]\n",
    "\n"
   ]
  },
  {
   "cell_type": "code",
   "execution_count": 214,
   "id": "c5adaad2",
   "metadata": {},
   "outputs": [
    {
     "name": "stdout",
     "output_type": "stream",
     "text": [
      "[[65, 70, 50], [50, 40]]\n",
      "[[{eta: 2.04, phi: 1.99, pt: 70, gen_flag: 1}, ..., {eta: 2.03, ...}], ...]\n",
      "[{eta: 2.04, phi: 1.99, pt: 70, gen_flag: 1}, {eta: -1.84, phi: 1.05, ...}]\n",
      "[[{eta: 2.05, phi: 1.91, pt: 60, gen_flag: 1}, ..., {eta: 2.05, ...}], ...]\n",
      "[{eta: 2.05, phi: 1.91, pt: 60, gen_flag: 1}, {eta: -1.86, phi: 1.91, ...}]\n"
     ]
    }
   ],
   "source": [
    "print(cluster_1.pt)\n",
    "print(sorted_clusters)\n",
    "print(best_cluster_1)\n",
    "print(gen_1)\n",
    "print(best_gen_1)"
   ]
  },
  {
   "cell_type": "code",
   "execution_count": 215,
   "id": "d56ba0b9",
   "metadata": {},
   "outputs": [
    {
     "name": "stdout",
     "output_type": "stream",
     "text": [
      "[{eta: 2.04, phi: 1.99, pt: 70, gen_flag: 1}, {eta: -1.84, phi: 1.05, ...}]\n",
      "Best Gen 1: [[{eta: 2.05, phi: 1.91, pt: 60, gen_flag: 1}], [{eta: -1.86, ...}]]\n",
      "Best Cluster 1: [[{eta: 2.04, phi: 1.99, pt: 70, gen_flag: 1}], [{eta: -1.84, ...}]]\n"
     ]
    }
   ],
   "source": [
    "counts=ak.ones_like(best_cluster_1.pt)\n",
    "\n",
    "\n",
    "print(best_cluster_1)\n",
    "best_cluster_1 = ak.zip({\n",
    "    'eta': ak.unflatten(best_cluster_1.eta,1),\n",
    "    'phi': ak.unflatten(best_cluster_1.phi,1),\n",
    "    'pt': ak.unflatten(best_cluster_1.pt,1),\n",
    "    'gen_flag': ak.unflatten(best_cluster_1.gen_flag,1),\n",
    "})\n",
    "\n",
    "counts_gen=ak.ones_like(best_gen_1.pt)\n",
    "best_gen_1 = ak.zip({\n",
    "    'eta': ak.unflatten(best_gen_1.eta, counts_gen),\n",
    "    'phi': ak.unflatten(best_gen_1.phi, counts_gen),\n",
    "    'pt': ak.unflatten(best_gen_1.pt, counts_gen),\n",
    "    'gen_flag': ak.unflatten(best_gen_1.gen_flag, counts_gen),\n",
    "})\n",
    "\n",
    "# counts=ak.ones_like(best_cluster_1)\n",
    "# best_cluster_1 = ak.unflatten(best_cluster_1, counts)\n",
    "\n",
    "\n",
    "print(\"Best Gen 1:\", best_gen_1)\n",
    "print(\"Best Cluster 1:\", best_cluster_1)\n",
    "# print(\"Best Cluster 1:\", best_cluster_2)"
   ]
  },
  {
   "cell_type": "code",
   "execution_count": 217,
   "id": "63d2d2da",
   "metadata": {},
   "outputs": [
    {
     "name": "stdout",
     "output_type": "stream",
     "text": [
      "[[{eta: 2.05, phi: 1.91, pt: 60, gen_flag: 1}], ..., [{eta: -1.87, ...}, ...]]\n"
     ]
    }
   ],
   "source": [
    "ak.concatenate([best_cluster_1, grouped_clusters], axis=0)\n",
    "print(ak.concatenate([best_gen_1, grouped_gen], axis=0))"
   ]
  },
  {
   "cell_type": "code",
   "execution_count": null,
   "id": "09345ea2",
   "metadata": {},
   "outputs": [],
   "source": []
  },
  {
   "cell_type": "markdown",
   "id": "71380699",
   "metadata": {},
   "source": [
    "Cluster: [[[{eta: 2.04, phi: 1.99, pt: 70}]],[[{eta: -1.84, phi: 1.04, pt: 69}],[{eta: 1.60, phi: 2.02, pt: 60}]]]\n",
    "\n",
    "Gen: [[[{eta: 2.05, phi: 1.91, pt: 60}]],[[{eta: -1.86, phi: 1.05, pt: 70}],[{eta: 1.86, phi: 2.00, pt: 70}]]]"
   ]
  }
 ],
 "metadata": {
  "kernelspec": {
   "display_name": "rootenv",
   "language": "python",
   "name": "python3"
  },
  "language_info": {
   "codemirror_mode": {
    "name": "ipython",
    "version": 3
   },
   "file_extension": ".py",
   "mimetype": "text/x-python",
   "name": "python",
   "nbconvert_exporter": "python",
   "pygments_lexer": "ipython3",
   "version": "3.13.2"
  }
 },
 "nbformat": 4,
 "nbformat_minor": 5
}
